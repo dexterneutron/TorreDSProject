{
 "cells": [
  {
   "cell_type": "code",
   "execution_count": 1,
   "metadata": {},
   "outputs": [],
   "source": [
    "## First of all we start setting up our working environment, for this projects we will be using PANDAS, Matplotlib and Seaborn\n"
   ]
  },
  {
   "cell_type": "code",
   "execution_count": 2,
   "metadata": {},
   "outputs": [
    {
     "name": "stdout",
     "output_type": "stream",
     "text": [
      "Setup Complete\n"
     ]
    }
   ],
   "source": [
    "import pandas as pd\n",
    "import matplotlib.pyplot as plt\n",
    "%matplotlib inline\n",
    "import seaborn as sns\n",
    "print(\"Setup Complete\")\n"
   ]
  },
  {
   "cell_type": "code",
   "execution_count": 3,
   "metadata": {},
   "outputs": [],
   "source": [
    "## PART ONE: EXPLORATORY DATA ANALISYS"
   ]
  },
  {
   "cell_type": "code",
   "execution_count": 4,
   "metadata": {},
   "outputs": [],
   "source": [
    "## OK, let us just import the data and check the what the whole stuff is about"
   ]
  },
  {
   "cell_type": "code",
   "execution_count": 5,
   "metadata": {},
   "outputs": [
    {
     "data": {
      "text/html": [
       "<div>\n",
       "<style scoped>\n",
       "    .dataframe tbody tr th:only-of-type {\n",
       "        vertical-align: middle;\n",
       "    }\n",
       "\n",
       "    .dataframe tbody tr th {\n",
       "        vertical-align: top;\n",
       "    }\n",
       "\n",
       "    .dataframe thead th {\n",
       "        text-align: right;\n",
       "    }\n",
       "</style>\n",
       "<table border=\"1\" class=\"dataframe\">\n",
       "  <thead>\n",
       "    <tr style=\"text-align: right;\">\n",
       "      <th></th>\n",
       "      <th>category</th>\n",
       "      <th>city</th>\n",
       "      <th>company_name</th>\n",
       "      <th>geo</th>\n",
       "      <th>job_board</th>\n",
       "      <th>job_description</th>\n",
       "      <th>job_requirements</th>\n",
       "      <th>job_title</th>\n",
       "      <th>job_type</th>\n",
       "      <th>post_date</th>\n",
       "      <th>salary_offered</th>\n",
       "      <th>state</th>\n",
       "    </tr>\n",
       "  </thead>\n",
       "  <tbody>\n",
       "    <tr>\n",
       "      <th>0</th>\n",
       "      <td>catering jobs</td>\n",
       "      <td>Chudleigh</td>\n",
       "      <td>Haulfryn Group</td>\n",
       "      <td>uk</td>\n",
       "      <td>reed</td>\n",
       "      <td>Apply now New opportunity not to be missed! H...</td>\n",
       "      <td>NaN</td>\n",
       "      <td>Commis Chef</td>\n",
       "      <td>Permanent, full-time</td>\n",
       "      <td>3/12/2018</td>\n",
       "      <td>£18,323 per annum</td>\n",
       "      <td>Devon</td>\n",
       "    </tr>\n",
       "    <tr>\n",
       "      <th>1</th>\n",
       "      <td>law jobs</td>\n",
       "      <td>Swindon</td>\n",
       "      <td>Reed</td>\n",
       "      <td>uk</td>\n",
       "      <td>reed</td>\n",
       "      <td>Apply now This role requires an experienced s...</td>\n",
       "      <td>NaN</td>\n",
       "      <td>Corporate Legal Secretary</td>\n",
       "      <td>Permanent, full-time</td>\n",
       "      <td>3/8/2018</td>\n",
       "      <td>£18,000 - £22,000 per annum</td>\n",
       "      <td>Wiltshire</td>\n",
       "    </tr>\n",
       "    <tr>\n",
       "      <th>2</th>\n",
       "      <td>factory jobs</td>\n",
       "      <td>Norfolk</td>\n",
       "      <td>Swanstaff Recruitment Ltd</td>\n",
       "      <td>uk</td>\n",
       "      <td>reed</td>\n",
       "      <td>Apply now Job Title: Warehouse personLocation...</td>\n",
       "      <td>NaN</td>\n",
       "      <td>Warehouse Person</td>\n",
       "      <td>Permanent, full-time</td>\n",
       "      <td>2/27/2018</td>\n",
       "      <td>Salary not specified</td>\n",
       "      <td>East Anglia</td>\n",
       "    </tr>\n",
       "    <tr>\n",
       "      <th>3</th>\n",
       "      <td>law jobs</td>\n",
       "      <td>Hurstpierpoint</td>\n",
       "      <td>Castles Solicitors</td>\n",
       "      <td>uk</td>\n",
       "      <td>reed</td>\n",
       "      <td>Apply now Castles Solicitors are looking for ...</td>\n",
       "      <td>Required skills Admin Case Management Corresp...</td>\n",
       "      <td>Legal Secretary / Admin Assistant</td>\n",
       "      <td>Permanent, full-time or part-time</td>\n",
       "      <td>2/21/2018</td>\n",
       "      <td>£15,000 - £17,000 per annum, pro-rata</td>\n",
       "      <td>West Sussex</td>\n",
       "    </tr>\n",
       "    <tr>\n",
       "      <th>4</th>\n",
       "      <td>factory jobs</td>\n",
       "      <td>Hertfordshire</td>\n",
       "      <td>Marketplace Group</td>\n",
       "      <td>uk</td>\n",
       "      <td>reed</td>\n",
       "      <td>Apply now International Pharmaceutical Manufa...</td>\n",
       "      <td>NaN</td>\n",
       "      <td>Category Planner - Pharmaceutical</td>\n",
       "      <td>Permanent, full-time</td>\n",
       "      <td>3/1/2018</td>\n",
       "      <td>£37,000 - £45,000 per annum</td>\n",
       "      <td>South East England</td>\n",
       "    </tr>\n",
       "    <tr>\n",
       "      <th>...</th>\n",
       "      <td>...</td>\n",
       "      <td>...</td>\n",
       "      <td>...</td>\n",
       "      <td>...</td>\n",
       "      <td>...</td>\n",
       "      <td>...</td>\n",
       "      <td>...</td>\n",
       "      <td>...</td>\n",
       "      <td>...</td>\n",
       "      <td>...</td>\n",
       "      <td>...</td>\n",
       "      <td>...</td>\n",
       "    </tr>\n",
       "    <tr>\n",
       "      <th>49995</th>\n",
       "      <td>science jobs</td>\n",
       "      <td>Oxfordshire</td>\n",
       "      <td>Hays Specialist Recruitment Limited</td>\n",
       "      <td>uk</td>\n",
       "      <td>reed</td>\n",
       "      <td>Apply now Scientist - Cell Based Assays - Neu...</td>\n",
       "      <td>NaN</td>\n",
       "      <td>Scientist In vitro Cell-Free &amp; Cell Based Assays</td>\n",
       "      <td>Contract, full-time</td>\n",
       "      <td>3/7/2018</td>\n",
       "      <td>£22.00 - £26.00 per hour</td>\n",
       "      <td>South East England</td>\n",
       "    </tr>\n",
       "    <tr>\n",
       "      <th>49996</th>\n",
       "      <td>graduate training internships jobs</td>\n",
       "      <td>Northampton</td>\n",
       "      <td>The Graduate</td>\n",
       "      <td>uk</td>\n",
       "      <td>reed</td>\n",
       "      <td>Apply now Our client is looking for high achi...</td>\n",
       "      <td>Required skills Blue Chip Communication Skill...</td>\n",
       "      <td>Graduate Training Scheme - Recruitment</td>\n",
       "      <td>Permanent, full-time</td>\n",
       "      <td>3/9/2018</td>\n",
       "      <td>£18,000 - £21,000 per annum</td>\n",
       "      <td>Northamptonshire</td>\n",
       "    </tr>\n",
       "    <tr>\n",
       "      <th>49997</th>\n",
       "      <td>strategy consultancy jobs</td>\n",
       "      <td>City of London</td>\n",
       "      <td>Capgemini Consulting</td>\n",
       "      <td>uk</td>\n",
       "      <td>reed</td>\n",
       "      <td>Apply on employer's website Who youâ€™ll be w...</td>\n",
       "      <td>NaN</td>\n",
       "      <td>Management Consultant - Retail Buying, Merchan...</td>\n",
       "      <td>Permanent, full-time</td>\n",
       "      <td>2/17/2018</td>\n",
       "      <td>Competitive salary</td>\n",
       "      <td>London</td>\n",
       "    </tr>\n",
       "    <tr>\n",
       "      <th>49998</th>\n",
       "      <td>purchasing jobs</td>\n",
       "      <td>Egham</td>\n",
       "      <td>Concept Human Solutions</td>\n",
       "      <td>uk</td>\n",
       "      <td>reed</td>\n",
       "      <td>Apply now UNDERSTANDING, SERVICE, TRUST3 Word...</td>\n",
       "      <td>Required skills Procurement AV</td>\n",
       "      <td>AV Procurement Assistant</td>\n",
       "      <td>Permanent, full-time</td>\n",
       "      <td>3/6/2018</td>\n",
       "      <td>£27,500 - £30,000 per annum, negotiable, OTE</td>\n",
       "      <td>Surrey</td>\n",
       "    </tr>\n",
       "    <tr>\n",
       "      <th>49999</th>\n",
       "      <td>fmcg jobs</td>\n",
       "      <td>London</td>\n",
       "      <td>D R Newitt</td>\n",
       "      <td>uk</td>\n",
       "      <td>reed</td>\n",
       "      <td>Apply now My client, highly successful, rapid...</td>\n",
       "      <td>Required skills FMCG French Supply Planning</td>\n",
       "      <td>Supply Planner - French Speaking</td>\n",
       "      <td>Permanent, full-time</td>\n",
       "      <td>2/27/2018</td>\n",
       "      <td>£45,000 per annum</td>\n",
       "      <td>South East England</td>\n",
       "    </tr>\n",
       "  </tbody>\n",
       "</table>\n",
       "<p>50000 rows × 12 columns</p>\n",
       "</div>"
      ],
      "text/plain": [
       "                                 category            city  \\\n",
       "0                           catering jobs       Chudleigh   \n",
       "1                                law jobs         Swindon   \n",
       "2                            factory jobs         Norfolk   \n",
       "3                                law jobs  Hurstpierpoint   \n",
       "4                            factory jobs   Hertfordshire   \n",
       "...                                   ...             ...   \n",
       "49995                        science jobs     Oxfordshire   \n",
       "49996  graduate training internships jobs     Northampton   \n",
       "49997           strategy consultancy jobs  City of London   \n",
       "49998                     purchasing jobs           Egham   \n",
       "49999                           fmcg jobs          London   \n",
       "\n",
       "                               company_name geo job_board  \\\n",
       "0                           Haulfryn Group   uk      reed   \n",
       "1                                     Reed   uk      reed   \n",
       "2                Swanstaff Recruitment Ltd   uk      reed   \n",
       "3                       Castles Solicitors   uk      reed   \n",
       "4                        Marketplace Group   uk      reed   \n",
       "...                                     ...  ..       ...   \n",
       "49995  Hays Specialist Recruitment Limited   uk      reed   \n",
       "49996                         The Graduate   uk      reed   \n",
       "49997                 Capgemini Consulting   uk      reed   \n",
       "49998              Concept Human Solutions   uk      reed   \n",
       "49999                           D R Newitt   uk      reed   \n",
       "\n",
       "                                         job_description  \\\n",
       "0       Apply now New opportunity not to be missed! H...   \n",
       "1       Apply now This role requires an experienced s...   \n",
       "2       Apply now Job Title: Warehouse personLocation...   \n",
       "3       Apply now Castles Solicitors are looking for ...   \n",
       "4       Apply now International Pharmaceutical Manufa...   \n",
       "...                                                  ...   \n",
       "49995   Apply now Scientist - Cell Based Assays - Neu...   \n",
       "49996   Apply now Our client is looking for high achi...   \n",
       "49997   Apply on employer's website Who youâ€™ll be w...   \n",
       "49998   Apply now UNDERSTANDING, SERVICE, TRUST3 Word...   \n",
       "49999   Apply now My client, highly successful, rapid...   \n",
       "\n",
       "                                        job_requirements  \\\n",
       "0                                                    NaN   \n",
       "1                                                    NaN   \n",
       "2                                                    NaN   \n",
       "3       Required skills Admin Case Management Corresp...   \n",
       "4                                                    NaN   \n",
       "...                                                  ...   \n",
       "49995                                                NaN   \n",
       "49996   Required skills Blue Chip Communication Skill...   \n",
       "49997                                                NaN   \n",
       "49998                    Required skills Procurement AV    \n",
       "49999       Required skills FMCG French Supply Planning    \n",
       "\n",
       "                                               job_title  \\\n",
       "0                                            Commis Chef   \n",
       "1                              Corporate Legal Secretary   \n",
       "2                                       Warehouse Person   \n",
       "3                      Legal Secretary / Admin Assistant   \n",
       "4                      Category Planner - Pharmaceutical   \n",
       "...                                                  ...   \n",
       "49995   Scientist In vitro Cell-Free & Cell Based Assays   \n",
       "49996             Graduate Training Scheme - Recruitment   \n",
       "49997  Management Consultant - Retail Buying, Merchan...   \n",
       "49998                           AV Procurement Assistant   \n",
       "49999                  Supply Planner - French Speaking    \n",
       "\n",
       "                                job_type  post_date  \\\n",
       "0                   Permanent, full-time  3/12/2018   \n",
       "1                   Permanent, full-time   3/8/2018   \n",
       "2                   Permanent, full-time  2/27/2018   \n",
       "3      Permanent, full-time or part-time  2/21/2018   \n",
       "4                   Permanent, full-time   3/1/2018   \n",
       "...                                  ...        ...   \n",
       "49995                Contract, full-time   3/7/2018   \n",
       "49996               Permanent, full-time   3/9/2018   \n",
       "49997               Permanent, full-time  2/17/2018   \n",
       "49998               Permanent, full-time   3/6/2018   \n",
       "49999               Permanent, full-time  2/27/2018   \n",
       "\n",
       "                                       salary_offered               state  \n",
       "0                                  £18,323 per annum                Devon  \n",
       "1                        £18,000 - £22,000 per annum            Wiltshire  \n",
       "2                               Salary not specified          East Anglia  \n",
       "3              £15,000 - £17,000 per annum, pro-rata          West Sussex  \n",
       "4                        £37,000 - £45,000 per annum   South East England  \n",
       "...                                               ...                 ...  \n",
       "49995                       £22.00 - £26.00 per hour   South East England  \n",
       "49996                    £18,000 - £21,000 per annum     Northamptonshire  \n",
       "49997                             Competitive salary               London  \n",
       "49998   £27,500 - £30,000 per annum, negotiable, OTE               Surrey  \n",
       "49999                              £45,000 per annum   South East England  \n",
       "\n",
       "[50000 rows x 12 columns]"
      ]
     },
     "execution_count": 5,
     "metadata": {},
     "output_type": "execute_result"
    }
   ],
   "source": [
    "data_filepath = \"reed_uk.csv\"\n",
    "data=pd.read_csv(data_filepath)\n",
    "data"
   ]
  },
  {
   "cell_type": "code",
   "execution_count": 6,
   "metadata": {},
   "outputs": [],
   "source": [
    "## PART TWO: FEATURE ENGINEERING"
   ]
  },
  {
   "cell_type": "code",
   "execution_count": 7,
   "metadata": {},
   "outputs": [],
   "source": [
    "## Let us explore out jobs dataset "
   ]
  },
  {
   "cell_type": "code",
   "execution_count": 8,
   "metadata": {},
   "outputs": [
    {
     "data": {
      "text/html": [
       "<div>\n",
       "<style scoped>\n",
       "    .dataframe tbody tr th:only-of-type {\n",
       "        vertical-align: middle;\n",
       "    }\n",
       "\n",
       "    .dataframe tbody tr th {\n",
       "        vertical-align: top;\n",
       "    }\n",
       "\n",
       "    .dataframe thead th {\n",
       "        text-align: right;\n",
       "    }\n",
       "</style>\n",
       "<table border=\"1\" class=\"dataframe\">\n",
       "  <thead>\n",
       "    <tr style=\"text-align: right;\">\n",
       "      <th></th>\n",
       "      <th>category</th>\n",
       "      <th>city</th>\n",
       "      <th>company_name</th>\n",
       "      <th>geo</th>\n",
       "      <th>job_board</th>\n",
       "      <th>job_description</th>\n",
       "      <th>job_requirements</th>\n",
       "      <th>job_title</th>\n",
       "      <th>job_type</th>\n",
       "      <th>post_date</th>\n",
       "      <th>salary_offered</th>\n",
       "      <th>state</th>\n",
       "    </tr>\n",
       "  </thead>\n",
       "  <tbody>\n",
       "    <tr>\n",
       "      <th>count</th>\n",
       "      <td>50000</td>\n",
       "      <td>50000</td>\n",
       "      <td>50000</td>\n",
       "      <td>50000</td>\n",
       "      <td>50000</td>\n",
       "      <td>50000</td>\n",
       "      <td>20548</td>\n",
       "      <td>50000</td>\n",
       "      <td>50000</td>\n",
       "      <td>50000</td>\n",
       "      <td>50000</td>\n",
       "      <td>49980</td>\n",
       "    </tr>\n",
       "    <tr>\n",
       "      <th>unique</th>\n",
       "      <td>37</td>\n",
       "      <td>2918</td>\n",
       "      <td>5166</td>\n",
       "      <td>1</td>\n",
       "      <td>1</td>\n",
       "      <td>42057</td>\n",
       "      <td>14887</td>\n",
       "      <td>29155</td>\n",
       "      <td>9</td>\n",
       "      <td>66</td>\n",
       "      <td>7345</td>\n",
       "      <td>167</td>\n",
       "    </tr>\n",
       "    <tr>\n",
       "      <th>top</th>\n",
       "      <td>health jobs</td>\n",
       "      <td>London</td>\n",
       "      <td>Hays Specialist Recruitment Limited</td>\n",
       "      <td>uk</td>\n",
       "      <td>reed</td>\n",
       "      <td>Apply on employer's website Add an annual tur...</td>\n",
       "      <td>Required skills Recruitment</td>\n",
       "      <td>Administrator</td>\n",
       "      <td>Permanent, full-time</td>\n",
       "      <td>3/7/2018</td>\n",
       "      <td>Salary negotiable</td>\n",
       "      <td>London</td>\n",
       "    </tr>\n",
       "    <tr>\n",
       "      <th>freq</th>\n",
       "      <td>1930</td>\n",
       "      <td>4349</td>\n",
       "      <td>1830</td>\n",
       "      <td>50000</td>\n",
       "      <td>50000</td>\n",
       "      <td>85</td>\n",
       "      <td>123</td>\n",
       "      <td>162</td>\n",
       "      <td>36864</td>\n",
       "      <td>8472</td>\n",
       "      <td>4539</td>\n",
       "      <td>5900</td>\n",
       "    </tr>\n",
       "  </tbody>\n",
       "</table>\n",
       "</div>"
      ],
      "text/plain": [
       "           category    city                          company_name    geo  \\\n",
       "count         50000   50000                                 50000  50000   \n",
       "unique           37    2918                                  5166      1   \n",
       "top     health jobs  London  Hays Specialist Recruitment Limited      uk   \n",
       "freq           1930    4349                                  1830  50000   \n",
       "\n",
       "       job_board                                    job_description  \\\n",
       "count      50000                                              50000   \n",
       "unique         1                                              42057   \n",
       "top         reed   Apply on employer's website Add an annual tur...   \n",
       "freq       50000                                                 85   \n",
       "\n",
       "                     job_requirements      job_title              job_type  \\\n",
       "count                           20548          50000                 50000   \n",
       "unique                          14887          29155                     9   \n",
       "top      Required skills Recruitment   Administrator  Permanent, full-time   \n",
       "freq                              123            162                 36864   \n",
       "\n",
       "       post_date       salary_offered   state  \n",
       "count      50000                50000   49980  \n",
       "unique        66                 7345     167  \n",
       "top     3/7/2018   Salary negotiable   London  \n",
       "freq        8472                 4539    5900  "
      ]
     },
     "execution_count": 8,
     "metadata": {},
     "output_type": "execute_result"
    }
   ],
   "source": [
    "data.describe()"
   ]
  },
  {
   "cell_type": "code",
   "execution_count": 9,
   "metadata": {},
   "outputs": [],
   "source": [
    "##From the describe function we can conclude:\n",
    "##Geo and city collumns have no different values\n"
   ]
  },
  {
   "cell_type": "code",
   "execution_count": 10,
   "metadata": {},
   "outputs": [],
   "source": [
    "##let us check for missing values"
   ]
  },
  {
   "cell_type": "code",
   "execution_count": 11,
   "metadata": {},
   "outputs": [
    {
     "data": {
      "text/plain": [
       "<AxesSubplot:>"
      ]
     },
     "execution_count": 11,
     "metadata": {},
     "output_type": "execute_result"
    },
    {
     "data": {
      "image/png": "[encoded data removed]",
      "text/plain": [
       "<Figure size 432x288 with 1 Axes>"
      ]
     },
     "metadata": {
      "needs_background": "light"
     },
     "output_type": "display_data"
    }
   ],
   "source": [
    "sns.heatmap(data.isnull(), cbar=False)\n"
   ]
  },
  {
   "cell_type": "code",
   "execution_count": 12,
   "metadata": {},
   "outputs": [],
   "source": [
    "## We see that the job_requirements collumn has missing values. Before deciding how to proceed let´s check what´s the percentage of missing values"
   ]
  },
  {
   "cell_type": "code",
   "execution_count": 13,
   "metadata": {},
   "outputs": [
    {
     "data": {
      "text/plain": [
       "58.904"
      ]
     },
     "execution_count": 13,
     "metadata": {},
     "output_type": "execute_result"
    }
   ],
   "source": [
    "percent_missing = data['job_requirements'].isnull().sum() * 100 / len(data)\n",
    "\n",
    "percent_missing "
   ]
  },
  {
   "cell_type": "code",
   "execution_count": 14,
   "metadata": {},
   "outputs": [],
   "source": [
    "## Around 60% of the job requirements column is missing, so we can consider dropping it as well as the columns without different values"
   ]
  },
  {
   "cell_type": "code",
   "execution_count": 15,
   "metadata": {},
   "outputs": [],
   "source": [
    "del data['job_requirements']\n",
    "del data['job_board']\n",
    "del data['geo']\n"
   ]
  },
  {
   "cell_type": "code",
   "execution_count": 16,
   "metadata": {},
   "outputs": [],
   "source": [
    "#Cheking out the new dataset"
   ]
  },
  {
   "cell_type": "code",
   "execution_count": 17,
   "metadata": {},
   "outputs": [
    {
     "data": {
      "text/html": [
       "<div>\n",
       "<style scoped>\n",
       "    .dataframe tbody tr th:only-of-type {\n",
       "        vertical-align: middle;\n",
       "    }\n",
       "\n",
       "    .dataframe tbody tr th {\n",
       "        vertical-align: top;\n",
       "    }\n",
       "\n",
       "    .dataframe thead th {\n",
       "        text-align: right;\n",
       "    }\n",
       "</style>\n",
       "<table border=\"1\" class=\"dataframe\">\n",
       "  <thead>\n",
       "    <tr style=\"text-align: right;\">\n",
       "      <th></th>\n",
       "      <th>category</th>\n",
       "      <th>city</th>\n",
       "      <th>company_name</th>\n",
       "      <th>job_description</th>\n",
       "      <th>job_title</th>\n",
       "      <th>job_type</th>\n",
       "      <th>post_date</th>\n",
       "      <th>salary_offered</th>\n",
       "      <th>state</th>\n",
       "    </tr>\n",
       "  </thead>\n",
       "  <tbody>\n",
       "    <tr>\n",
       "      <th>0</th>\n",
       "      <td>catering jobs</td>\n",
       "      <td>Chudleigh</td>\n",
       "      <td>Haulfryn Group</td>\n",
       "      <td>Apply now New opportunity not to be missed! H...</td>\n",
       "      <td>Commis Chef</td>\n",
       "      <td>Permanent, full-time</td>\n",
       "      <td>3/12/2018</td>\n",
       "      <td>£18,323 per annum</td>\n",
       "      <td>Devon</td>\n",
       "    </tr>\n",
       "    <tr>\n",
       "      <th>1</th>\n",
       "      <td>law jobs</td>\n",
       "      <td>Swindon</td>\n",
       "      <td>Reed</td>\n",
       "      <td>Apply now This role requires an experienced s...</td>\n",
       "      <td>Corporate Legal Secretary</td>\n",
       "      <td>Permanent, full-time</td>\n",
       "      <td>3/8/2018</td>\n",
       "      <td>£18,000 - £22,000 per annum</td>\n",
       "      <td>Wiltshire</td>\n",
       "    </tr>\n",
       "    <tr>\n",
       "      <th>2</th>\n",
       "      <td>factory jobs</td>\n",
       "      <td>Norfolk</td>\n",
       "      <td>Swanstaff Recruitment Ltd</td>\n",
       "      <td>Apply now Job Title: Warehouse personLocation...</td>\n",
       "      <td>Warehouse Person</td>\n",
       "      <td>Permanent, full-time</td>\n",
       "      <td>2/27/2018</td>\n",
       "      <td>Salary not specified</td>\n",
       "      <td>East Anglia</td>\n",
       "    </tr>\n",
       "    <tr>\n",
       "      <th>3</th>\n",
       "      <td>law jobs</td>\n",
       "      <td>Hurstpierpoint</td>\n",
       "      <td>Castles Solicitors</td>\n",
       "      <td>Apply now Castles Solicitors are looking for ...</td>\n",
       "      <td>Legal Secretary / Admin Assistant</td>\n",
       "      <td>Permanent, full-time or part-time</td>\n",
       "      <td>2/21/2018</td>\n",
       "      <td>£15,000 - £17,000 per annum, pro-rata</td>\n",
       "      <td>West Sussex</td>\n",
       "    </tr>\n",
       "    <tr>\n",
       "      <th>4</th>\n",
       "      <td>factory jobs</td>\n",
       "      <td>Hertfordshire</td>\n",
       "      <td>Marketplace Group</td>\n",
       "      <td>Apply now International Pharmaceutical Manufa...</td>\n",
       "      <td>Category Planner - Pharmaceutical</td>\n",
       "      <td>Permanent, full-time</td>\n",
       "      <td>3/1/2018</td>\n",
       "      <td>£37,000 - £45,000 per annum</td>\n",
       "      <td>South East England</td>\n",
       "    </tr>\n",
       "  </tbody>\n",
       "</table>\n",
       "</div>"
      ],
      "text/plain": [
       "        category            city                company_name  \\\n",
       "0  catering jobs       Chudleigh             Haulfryn Group    \n",
       "1       law jobs         Swindon                       Reed    \n",
       "2   factory jobs         Norfolk  Swanstaff Recruitment Ltd    \n",
       "3       law jobs  Hurstpierpoint         Castles Solicitors    \n",
       "4   factory jobs   Hertfordshire          Marketplace Group    \n",
       "\n",
       "                                     job_description  \\\n",
       "0   Apply now New opportunity not to be missed! H...   \n",
       "1   Apply now This role requires an experienced s...   \n",
       "2   Apply now Job Title: Warehouse personLocation...   \n",
       "3   Apply now Castles Solicitors are looking for ...   \n",
       "4   Apply now International Pharmaceutical Manufa...   \n",
       "\n",
       "                           job_title                           job_type  \\\n",
       "0                        Commis Chef               Permanent, full-time   \n",
       "1          Corporate Legal Secretary               Permanent, full-time   \n",
       "2                   Warehouse Person               Permanent, full-time   \n",
       "3  Legal Secretary / Admin Assistant  Permanent, full-time or part-time   \n",
       "4  Category Planner - Pharmaceutical               Permanent, full-time   \n",
       "\n",
       "   post_date                           salary_offered               state  \n",
       "0  3/12/2018                       £18,323 per annum                Devon  \n",
       "1   3/8/2018             £18,000 - £22,000 per annum            Wiltshire  \n",
       "2  2/27/2018                    Salary not specified          East Anglia  \n",
       "3  2/21/2018   £15,000 - £17,000 per annum, pro-rata          West Sussex  \n",
       "4   3/1/2018             £37,000 - £45,000 per annum   South East England  "
      ]
     },
     "execution_count": 17,
     "metadata": {},
     "output_type": "execute_result"
    }
   ],
   "source": [
    "data.head()"
   ]
  },
  {
   "cell_type": "code",
   "execution_count": 18,
   "metadata": {},
   "outputs": [],
   "source": [
    "# Let´s see our job_type column"
   ]
  },
  {
   "cell_type": "code",
   "execution_count": 19,
   "metadata": {},
   "outputs": [
    {
     "data": {
      "text/plain": [
       "<AxesSubplot:xlabel='count', ylabel='job_type'>"
      ]
     },
     "execution_count": 19,
     "metadata": {},
     "output_type": "execute_result"
    },
    {
     "data": {
      "image/png": "[encoded data removed]",
      "text/plain": [
       "<Figure size 432x288 with 1 Axes>"
      ]
     },
     "metadata": {
      "needs_background": "light"
     },
     "output_type": "display_data"
    }
   ],
   "source": [
    "sns.countplot(y=data[\"job_type\"],palette=\"viridis\",order = data['job_type'].value_counts().index)\n",
    "\n",
    "\n"
   ]
  },
  {
   "cell_type": "code",
   "execution_count": 20,
   "metadata": {},
   "outputs": [],
   "source": [
    "#We can have a better understanding of the data if we separate the job_type column into two diferent fields"
   ]
  },
  {
   "cell_type": "code",
   "execution_count": 21,
   "metadata": {},
   "outputs": [],
   "source": [
    "new=data[\"job_type\"].str.split(\",\", n = 1, expand = True)\n",
    "data[\"job_contract\"]=new[0]\n",
    "data[\"job_time\"]=new[1]\n",
    "del data['job_type']\n"
   ]
  },
  {
   "cell_type": "code",
   "execution_count": 22,
   "metadata": {},
   "outputs": [
    {
     "data": {
      "text/html": [
       "<div>\n",
       "<style scoped>\n",
       "    .dataframe tbody tr th:only-of-type {\n",
       "        vertical-align: middle;\n",
       "    }\n",
       "\n",
       "    .dataframe tbody tr th {\n",
       "        vertical-align: top;\n",
       "    }\n",
       "\n",
       "    .dataframe thead th {\n",
       "        text-align: right;\n",
       "    }\n",
       "</style>\n",
       "<table border=\"1\" class=\"dataframe\">\n",
       "  <thead>\n",
       "    <tr style=\"text-align: right;\">\n",
       "      <th></th>\n",
       "      <th>category</th>\n",
       "      <th>city</th>\n",
       "      <th>company_name</th>\n",
       "      <th>job_description</th>\n",
       "      <th>job_title</th>\n",
       "      <th>post_date</th>\n",
       "      <th>salary_offered</th>\n",
       "      <th>state</th>\n",
       "      <th>job_contract</th>\n",
       "      <th>job_time</th>\n",
       "    </tr>\n",
       "  </thead>\n",
       "  <tbody>\n",
       "    <tr>\n",
       "      <th>0</th>\n",
       "      <td>catering jobs</td>\n",
       "      <td>Chudleigh</td>\n",
       "      <td>Haulfryn Group</td>\n",
       "      <td>Apply now New opportunity not to be missed! H...</td>\n",
       "      <td>Commis Chef</td>\n",
       "      <td>3/12/2018</td>\n",
       "      <td>£18,323 per annum</td>\n",
       "      <td>Devon</td>\n",
       "      <td>Permanent</td>\n",
       "      <td>full-time</td>\n",
       "    </tr>\n",
       "    <tr>\n",
       "      <th>1</th>\n",
       "      <td>law jobs</td>\n",
       "      <td>Swindon</td>\n",
       "      <td>Reed</td>\n",
       "      <td>Apply now This role requires an experienced s...</td>\n",
       "      <td>Corporate Legal Secretary</td>\n",
       "      <td>3/8/2018</td>\n",
       "      <td>£18,000 - £22,000 per annum</td>\n",
       "      <td>Wiltshire</td>\n",
       "      <td>Permanent</td>\n",
       "      <td>full-time</td>\n",
       "    </tr>\n",
       "    <tr>\n",
       "      <th>2</th>\n",
       "      <td>factory jobs</td>\n",
       "      <td>Norfolk</td>\n",
       "      <td>Swanstaff Recruitment Ltd</td>\n",
       "      <td>Apply now Job Title: Warehouse personLocation...</td>\n",
       "      <td>Warehouse Person</td>\n",
       "      <td>2/27/2018</td>\n",
       "      <td>Salary not specified</td>\n",
       "      <td>East Anglia</td>\n",
       "      <td>Permanent</td>\n",
       "      <td>full-time</td>\n",
       "    </tr>\n",
       "    <tr>\n",
       "      <th>3</th>\n",
       "      <td>law jobs</td>\n",
       "      <td>Hurstpierpoint</td>\n",
       "      <td>Castles Solicitors</td>\n",
       "      <td>Apply now Castles Solicitors are looking for ...</td>\n",
       "      <td>Legal Secretary / Admin Assistant</td>\n",
       "      <td>2/21/2018</td>\n",
       "      <td>£15,000 - £17,000 per annum, pro-rata</td>\n",
       "      <td>West Sussex</td>\n",
       "      <td>Permanent</td>\n",
       "      <td>full-time or part-time</td>\n",
       "    </tr>\n",
       "    <tr>\n",
       "      <th>4</th>\n",
       "      <td>factory jobs</td>\n",
       "      <td>Hertfordshire</td>\n",
       "      <td>Marketplace Group</td>\n",
       "      <td>Apply now International Pharmaceutical Manufa...</td>\n",
       "      <td>Category Planner - Pharmaceutical</td>\n",
       "      <td>3/1/2018</td>\n",
       "      <td>£37,000 - £45,000 per annum</td>\n",
       "      <td>South East England</td>\n",
       "      <td>Permanent</td>\n",
       "      <td>full-time</td>\n",
       "    </tr>\n",
       "  </tbody>\n",
       "</table>\n",
       "</div>"
      ],
      "text/plain": [
       "        category            city                company_name  \\\n",
       "0  catering jobs       Chudleigh             Haulfryn Group    \n",
       "1       law jobs         Swindon                       Reed    \n",
       "2   factory jobs         Norfolk  Swanstaff Recruitment Ltd    \n",
       "3       law jobs  Hurstpierpoint         Castles Solicitors    \n",
       "4   factory jobs   Hertfordshire          Marketplace Group    \n",
       "\n",
       "                                     job_description  \\\n",
       "0   Apply now New opportunity not to be missed! H...   \n",
       "1   Apply now This role requires an experienced s...   \n",
       "2   Apply now Job Title: Warehouse personLocation...   \n",
       "3   Apply now Castles Solicitors are looking for ...   \n",
       "4   Apply now International Pharmaceutical Manufa...   \n",
       "\n",
       "                           job_title  post_date  \\\n",
       "0                        Commis Chef  3/12/2018   \n",
       "1          Corporate Legal Secretary   3/8/2018   \n",
       "2                   Warehouse Person  2/27/2018   \n",
       "3  Legal Secretary / Admin Assistant  2/21/2018   \n",
       "4  Category Planner - Pharmaceutical   3/1/2018   \n",
       "\n",
       "                            salary_offered               state job_contract  \\\n",
       "0                       £18,323 per annum                Devon    Permanent   \n",
       "1             £18,000 - £22,000 per annum            Wiltshire    Permanent   \n",
       "2                    Salary not specified          East Anglia    Permanent   \n",
       "3   £15,000 - £17,000 per annum, pro-rata          West Sussex    Permanent   \n",
       "4             £37,000 - £45,000 per annum   South East England    Permanent   \n",
       "\n",
       "                  job_time  \n",
       "0                full-time  \n",
       "1                full-time  \n",
       "2                full-time  \n",
       "3   full-time or part-time  \n",
       "4                full-time  "
      ]
     },
     "execution_count": 22,
     "metadata": {},
     "output_type": "execute_result"
    }
   ],
   "source": [
    "data.head()"
   ]
  },
  {
   "cell_type": "code",
   "execution_count": 23,
   "metadata": {},
   "outputs": [
    {
     "data": {
      "text/plain": [
       "<AxesSubplot:xlabel='count', ylabel='job_contract'>"
      ]
     },
     "execution_count": 23,
     "metadata": {},
     "output_type": "execute_result"
    },
    {
     "data": {
      "image/png": "[encoded data removed]",
      "text/plain": [
       "<Figure size 432x288 with 1 Axes>"
      ]
     },
     "metadata": {
      "needs_background": "light"
     },
     "output_type": "display_data"
    }
   ],
   "source": [
    "sns.countplot(y=data[\"job_contract\"],palette=\"magma\",order = data['job_contract'].value_counts().index ,hue=data[\"job_time\"])\n"
   ]
  },
  {
   "cell_type": "code",
   "execution_count": 24,
   "metadata": {},
   "outputs": [],
   "source": [
    "#Having separated fields will help us for having a better understanding of the data. so far we can see that most \n",
    "#jobs are Permanent full time positions\n",
    "#Another important preprocessing step is to turn the field salary_offered into something we can use to make\n",
    "#comparisons and calculations\n",
    "#But before starting with the parsing of that column we have got to realize that there are some job posts\n",
    "#with non-specified salaries\n",
    "#Let us check how many rows with specified salaries we have; as we can see, for those Jobs with a salary(range) specified\n",
    "#"
   ]
  },
  {
   "cell_type": "code",
   "execution_count": 51,
   "metadata": {},
   "outputs": [
    {
     "data": {
      "text/plain": [
       "True     40969\n",
       "False     9031\n",
       "Name: salary_offered, dtype: int64"
      ]
     },
     "execution_count": 51,
     "metadata": {},
     "output_type": "execute_result"
    }
   ],
   "source": [
    "HasSalary=data['salary_offered'].str.contains(\"£\").value_counts()\n",
    "HasSalary"
   ]
  },
  {
   "cell_type": "code",
   "execution_count": 54,
   "metadata": {},
   "outputs": [
    {
     "data": {
      "text/plain": [
       "81.938"
      ]
     },
     "execution_count": 54,
     "metadata": {},
     "output_type": "execute_result"
    }
   ],
   "source": [
    "HasSalaryPercentage = HasSalary[1] * 100 / len(data)\n",
    "HasSalaryPercentage"
   ]
  },
  {
   "cell_type": "code",
   "execution_count": 55,
   "metadata": {},
   "outputs": [],
   "source": [
    "#Now, we see that around 82% of job posts specify a salary range. With could use \n",
    "#machine learning models in order to calculate the missing values"
   ]
  },
  {
   "cell_type": "code",
   "execution_count": null,
   "metadata": {},
   "outputs": [],
   "source": []
  }
 ],
 "metadata": {
  "kernelspec": {
   "display_name": "Python 3",
   "language": "python",
   "name": "python3"
  },
  "language_info": {
   "codemirror_mode": {
    "name": "ipython",
    "version": 3
   },
   "file_extension": ".py",
   "mimetype": "text/x-python",
   "name": "python",
   "nbconvert_exporter": "python",
   "pygments_lexer": "ipython3",
   "version": "3.8.5"
  }
 },
 "nbformat": 4,
 "nbformat_minor": 4
}
